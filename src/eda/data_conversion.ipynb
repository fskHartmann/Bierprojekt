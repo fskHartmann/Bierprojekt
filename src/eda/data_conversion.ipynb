{
 "cells": [
  {
   "cell_type": "code",
   "execution_count": 1,
   "id": "8afb361b",
   "metadata": {},
   "outputs": [],
   "source": [
    "import pandas as pd"
   ]
  },
  {
   "cell_type": "code",
   "execution_count": 19,
   "id": "6f5bd091",
   "metadata": {},
   "outputs": [
    {
     "name": "stdout",
     "output_type": "stream",
     "text": [
      "Erstes Blatt erfolgreich gespeichert als: ../../data/Köhler_Iselborn_Rohdatensatz_Zenodo.csv\n"
     ]
    }
   ],
   "source": [
    "# convert Data Excel to CSV\n",
    "import pandas as pd\n",
    "import csv\n",
    "\n",
    "# Pfade anpassen\n",
    "excel_path = '../../data/Köhler_Iselborn_Rohdatensatz_Zenodo.xlsx'\n",
    "csv_path   = '../../data/Köhler_Iselborn_Rohdatensatz_Zenodo.csv'\n",
    "\n",
    "try:\n",
    "    # Nur Blatt 0 einlesen\n",
    "    df = pd.read_excel(excel_path, sheet_name=0, engine='openpyxl')\n",
    "    \n",
    "    # Als eine einzige CSV speichern\n",
    "    df.to_csv(csv_path, index=False, encoding='utf-8', quoting=csv.QUOTE_ALL)\n",
    "    print(f\"Erstes Blatt erfolgreich gespeichert als: {csv_path}\")\n",
    "\n",
    "except FileNotFoundError:\n",
    "    print(f\"Datei nicht gefunden: {excel_path}\")\n",
    "except ImportError:\n",
    "    print(\"Bitte zuerst openpyxl installieren: pip install openpyxl\")\n",
    "except Exception as e:\n",
    "    print(\"Fehler:\", e)\n",
    "\n"
   ]
  },
  {
   "cell_type": "code",
   "execution_count": 10,
   "id": "ebf48d81",
   "metadata": {},
   "outputs": [
    {
     "name": "stdout",
     "output_type": "stream",
     "text": [
      "Inhalt von Köhler_Iselborn_Rohdatensatz_Zenodo.xlsx:\n",
      "     Fall     Status  Bearbeitungszeit\\n(Sekunden)  \\\n",
      "0       1  Completed                           736   \n",
      "1       2  Completed                           649   \n",
      "2       3  Completed                          1857   \n",
      "3       4    Started                           258   \n",
      "4       5  Completed                           755   \n",
      "..    ...        ...                           ...   \n",
      "531   532  Completed                           421   \n",
      "532   533  Completed                           482   \n",
      "533   534  Completed                           307   \n",
      "534   535  Completed                           244   \n",
      "535   536  Completed                           244   \n",
      "\n",
      "     Erklärung \\nDatenverarbeitung  Q0  Q1  Q2A  Q2B  Q2C  Q2D  ...  Q12I  \\\n",
      "0                                1   1   5    2    2    1    1  ...     3   \n",
      "1                                1   1   3    2    2    1    1  ...     2   \n",
      "2                                1   1   3    3    3    2    2  ...     4   \n",
      "3                                1   1   2    3    3    1    1  ...   -99   \n",
      "4                                1   1   3    2    2    1    2  ...     2   \n",
      "..                             ...  ..  ..  ...  ...  ...  ...  ...   ...   \n",
      "531                              1   1   3    3    3    1    1  ...     3   \n",
      "532                              1   1   2    3    3    2    1  ...     5   \n",
      "533                              1   1   3    2    3    1    1  ...     1   \n",
      "534                              1   1   5    1    3    1    1  ...     2   \n",
      "535                              1   1   5    2    1    2    1  ...     2   \n",
      "\n",
      "     Q13  Q14 Q15  Q16  Q17A  Q17B  Q17C  Q17D  Q17E  \n",
      "0      2    6   1    3     0     0     1     0     0  \n",
      "1      1    6   1    3     0     0     1     0     0  \n",
      "2      2    8   2    1     0     0     0     1     0  \n",
      "3    -99  -99 -99  -99     0     0     0     0     0  \n",
      "4      1    5   1    3     0     0     1     0     0  \n",
      "..   ...  ...  ..  ...   ...   ...   ...   ...   ...  \n",
      "531    1    8   1    9     0     0     1     0     0  \n",
      "532    2    7   1    3     0     0     1     0     1  \n",
      "533    2   12   2    1     1     0     0     0     0  \n",
      "534    2    6   1    3     1     0     0     0     0  \n",
      "535    2    9   1    3     0     0     1     0     0  \n",
      "\n",
      "[536 rows x 89 columns]\n"
     ]
    }
   ],
   "source": [
    "# Lese die Excel-Datei ein\n",
    "# Stelle sicher, dass die Datei 'koehler.xlsx' im Ordner '../../data/' existiert\n",
    "# und dass die Bibliothek 'openpyxl' installiert ist (pip install openpyxl)\n",
    "# data/Köhler_Iselborn_Rohdatensatz_Zenodo.xlsx\n",
    "try:\n",
    "    df_koehler = pd.read_excel('../../data/Köhler_Iselborn_Rohdatensatz_Zenodo.xlsx')\n",
    "    print(\"Inhalt von Köhler_Iselborn_Rohdatensatz_Zenodo.xlsx:\")\n",
    "    print(df_koehler)\n",
    "except FileNotFoundError:\n",
    "    print(\"Die Datei ../../data/Köhler_Iselborn_Rohdatensatz_Zenodo.xlsx wurde nicht gefunden.\")\n",
    "except Exception as e:\n",
    "    print(f\"Ein Fehler ist aufgetreten: {e}\")\n",
    "    print(\"Stellen Sie sicher, dass 'openpyxl' installiert ist: pip install openpyxl\")"
   ]
  }
 ],
 "metadata": {
  "kernelspec": {
   "display_name": "venv",
   "language": "python",
   "name": "python3"
  },
  "language_info": {
   "codemirror_mode": {
    "name": "ipython",
    "version": 3
   },
   "file_extension": ".py",
   "mimetype": "text/x-python",
   "name": "python",
   "nbconvert_exporter": "python",
   "pygments_lexer": "ipython3",
   "version": "3.13.1"
  }
 },
 "nbformat": 4,
 "nbformat_minor": 5
}
