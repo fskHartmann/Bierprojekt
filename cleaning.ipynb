{
 "cells": [
  {
   "cell_type": "code",
   "execution_count": null,
   "id": "deef42a6",
   "metadata": {},
   "outputs": [],
   "source": [
    "import pandas as pd\n",
    "import numpy as np\n",
    "import matplotlib.pyplot as plt\n",
    "from sklearn.preprocessing import MinMaxScaler, LabelEncoder\n",
    "import tensorflow as tf\n",
    "from tensorflow.keras import layers\n",
    "import json\n",
    "import warnings\n",
    "warnings.filterwarnings('ignore')"
   ]
  },
  {
   "cell_type": "code",
   "execution_count": null,
   "id": "d63115b7",
   "metadata": {},
   "outputs": [],
   "source": [
    "# Excel-Datei laden\n",
    "df = pd.read_excel('data/Köhler_Iselborn_Rohdatensatz_Zenodo.xlsx', sheet_name='verwertbare Nettostichprobe')\n",
    "df = df[df['Status'] == 'Completed'].copy()\n",
    "df.drop(columns=['Fall', 'Status', 'Bearbeitungszeit\\n(Sekunden)', 'Erklärung \\nDatenverarbeitung', 'Q0', 'Q3'], inplace=True)\n",
    "df"
   ]
  }
 ],
 "metadata": {
  "language_info": {
   "name": "python"
  }
 },
 "nbformat": 4,
 "nbformat_minor": 5
}
