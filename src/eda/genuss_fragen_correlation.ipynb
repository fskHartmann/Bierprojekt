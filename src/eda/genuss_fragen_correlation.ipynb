{
 "cells": [
  {
   "cell_type": "code",
   "execution_count": 20,
   "id": "1264c059",
   "metadata": {},
   "outputs": [],
   "source": [
    "import pandas as pd"
   ]
  },
  {
   "cell_type": "code",
   "execution_count": 21,
   "id": "02bf8a50",
   "metadata": {},
   "outputs": [
    {
     "name": "stdout",
     "output_type": "stream",
     "text": [
      "   variable                                           question  \\\n",
      "0        Q0  Trinken Sie alkoholhaltiges oder alkoholfreies...   \n",
      "1        Q1  Wie häufig trinken Sie grundsätzlich alkoholfr...   \n",
      "2       Q2A               in Gesellschaft bei Freunden/Familie   \n",
      "3       Q2B                    auf privaten Partys oder Feiern   \n",
      "4       Q2C                                 zuhause beim Essen   \n",
      "..      ...                                                ...   \n",
      "80     Q17A                                       alleinlebend   \n",
      "81     Q17B                            mit Kind/Kindern lebend   \n",
      "82     Q17C                       mit Eltern/Elternteil lebend   \n",
      "83     Q17D         mit Freund/in bzw. Lebenspartner/in lebend   \n",
      "84     Q17E  mit sonstigen Personen lebend (bspw. studentis...   \n",
      "\n",
      "                                              options  \n",
      "0                                ['Ja(1)', 'Nein(2)']  \n",
      "1   ['täglich(1)', 'mehrmals pro Woche(2)', 'mehrm...  \n",
      "2   ['nie(1)', 'gelegentlich(2)', 'häufig(3)', 'ke...  \n",
      "3   ['nie(1)', 'gelegentlich(2)', 'häufig(3)', 'ke...  \n",
      "4   ['nie(1)', 'gelegentlich(2)', 'häufig(3)', 'ke...  \n",
      "..                                                ...  \n",
      "80                    ['0', '1', 'keine Angabe(-99)']  \n",
      "81                    ['0', '1', 'keine Angabe(-99)']  \n",
      "82                    ['0', '1', 'keine Angabe(-99)']  \n",
      "83                    ['0', '1', 'keine Angabe(-99)']  \n",
      "84                    ['0', '1', 'keine Angabe(-99)']  \n",
      "\n",
      "[85 rows x 3 columns]\n"
     ]
    }
   ],
   "source": [
    "\n",
    "# Lese die CSV-Datei ein\n",
    "df_fragebogen = pd.read_csv('../../data/fragebogen.csv')\n",
    "\n",
    "# Gib den DataFrame im Terminal aus\n",
    "print(df_fragebogen)"
   ]
  },
  {
   "cell_type": "code",
   "execution_count": 22,
   "id": "edfb673f",
   "metadata": {},
   "outputs": [
    {
     "name": "stdout",
     "output_type": "stream",
     "text": [
      "     Fall     Status  Bearbeitungszeit(Sekunden)  ErklärungDatenverarbeitung  \\\n",
      "0       1  Completed                         736                           1   \n",
      "1       2  Completed                         649                           1   \n",
      "2       3  Completed                        1857                           1   \n",
      "3       4    Started                         258                           1   \n",
      "4       5  Completed                         755                           1   \n",
      "..    ...        ...                         ...                         ...   \n",
      "531   532  Completed                         421                           1   \n",
      "532   533  Completed                         482                           1   \n",
      "533   534  Completed                         307                           1   \n",
      "534   535  Completed                         244                           1   \n",
      "535   536  Completed                         244                           1   \n",
      "\n",
      "     Q0  Q1  Q2A  Q2B  Q2C  Q2D  ...  Q12I  Q13  Q14 Q15  Q16  Q17A  Q17B  \\\n",
      "0     1   5    2    2    1    1  ...     3    2    6   1    3     0     0   \n",
      "1     1   3    2    2    1    1  ...     2    1    6   1    3     0     0   \n",
      "2     1   3    3    3    2    2  ...     4    2    8   2    1     0     0   \n",
      "3     1   2    3    3    1    1  ...   -99  -99  -99 -99  -99     0     0   \n",
      "4     1   3    2    2    1    2  ...     2    1    5   1    3     0     0   \n",
      "..   ..  ..  ...  ...  ...  ...  ...   ...  ...  ...  ..  ...   ...   ...   \n",
      "531   1   3    3    3    1    1  ...     3    1    8   1    9     0     0   \n",
      "532   1   2    3    3    2    1  ...     5    2    7   1    3     0     0   \n",
      "533   1   3    2    3    1    1  ...     1    2   12   2    1     1     0   \n",
      "534   1   5    1    3    1    1  ...     2    2    6   1    3     1     0   \n",
      "535   1   5    2    1    2    1  ...     2    2    9   1    3     0     0   \n",
      "\n",
      "     Q17C  Q17D  Q17E  \n",
      "0       1     0     0  \n",
      "1       1     0     0  \n",
      "2       0     1     0  \n",
      "3       0     0     0  \n",
      "4       1     0     0  \n",
      "..    ...   ...   ...  \n",
      "531     1     0     0  \n",
      "532     1     0     1  \n",
      "533     0     0     0  \n",
      "534     0     0     0  \n",
      "535     1     0     0  \n",
      "\n",
      "[536 rows x 89 columns]\n"
     ]
    }
   ],
   "source": [
    "df_antworten = pd.read_csv('../../data/Köhler_Iselborn_Rohdatensatz_Zenodo.csv')\n",
    "print(df_antworten)"
   ]
  },
  {
   "cell_type": "code",
   "execution_count": null,
   "id": "3c00c003",
   "metadata": {},
   "outputs": [
    {
     "name": "stdout",
     "output_type": "stream",
     "text": [
      "   variable                                           question  \\\n",
      "4       Q2C                                 zuhause beim Essen   \n",
      "5       Q2D                            zuhause zur Entspannung   \n",
      "8       Q2G                 im Urlaub im Hotel, am Strand etc.   \n",
      "21      Q6C  Es macht mir großen Spaß ein Bier oder bierhal...   \n",
      "24      Q6F  Auf den Konsum von Bier oder bierhaltigen Getr...   \n",
      "31      Q8A                             Geschmack des Getränks   \n",
      "32      Q8B                          Geruch/Aroma des Getränks   \n",
      "33      Q8C                             Kaufpreis des Getränks   \n",
      "\n",
      "                                              options Sentiment  \n",
      "4   ['nie(1)', 'gelegentlich(2)', 'häufig(3)', 'ke...   Positiv  \n",
      "5   ['nie(1)', 'gelegentlich(2)', 'häufig(3)', 'ke...   Positiv  \n",
      "8   ['nie(1)', 'gelegentlich(2)', 'häufig(3)', 'ke...   Positiv  \n",
      "21  ['trifft überhaupt nicht zu(1)', 'trifft eher ...   Positiv  \n",
      "24  ['trifft überhaupt nicht zu(1)', 'trifft eher ...   Negativ  \n",
      "31  ['sehr geringer Einfluss(1)', 'geringer Einflu...   Positiv  \n",
      "32  ['sehr geringer Einfluss(1)', 'geringer Einflu...   Positiv  \n",
      "33  ['sehr geringer Einfluss(1)', 'geringer Einflu...   Negativ  \n"
     ]
    }
   ],
   "source": [
    "# Genussfragen ausgeben \n",
    "\n",
    "# Definiere die Listen der positiven und negativen Fragen-IDs\n",
    "positive_questions = ['Q2C', 'Q2D', 'Q2G', 'Q8A', 'Q8B', 'Q6C']\n",
    "negative_questions = ['Q8C', 'Q6F']\n",
    "\n",
    "# Kombiniere die Listen der Fragen-IDs\n",
    "selected_question_ids = positive_questions + negative_questions\n",
    "\n",
    "# Filtere den DataFrame df_fragebogen\n",
    "df_selected_questions = df_fragebogen[df_fragebogen['variable'].isin(selected_question_ids)].copy()\n",
    "\n",
    "# Füge eine 'Sentiment'-Spalte hinzu\n",
    "df_selected_questions['Sentiment'] = df_selected_questions['variable'].apply(lambda x: 'Positiv' if x in positive_questions else 'Negativ')\n",
    "\n",
    "# Gib den neuen DataFrame aus\n",
    "print(\"Ausgewählte Fragen mit Sentiment:\")\n",
    "print(df_selected_questions)"
   ]
  },
  {
   "cell_type": "code",
   "execution_count": null,
   "id": "ad7dc364",
   "metadata": {},
   "outputs": [],
   "source": [
    "import numpy as np\n",
    "import seaborn as sns\n",
    "import matplotlib.pyplot as plt\n",
    "\n",
    "# Wähle die relevanten Spalten aus df_antworten aus\n",
    "df_antworten_selected = df_antworten[selected_question_ids].copy()\n",
    "\n",
    "# Ersetze -99 durch NaN\n",
    "df_antworten_selected.replace(-99, np.nan, inplace=True)\n",
    "\n",
    "# Stelle sicher, dass alle Spalten numerisch sind (obwohl sie es bereits sein sollten, da -99 ein numerischer Wert war)\n",
    "for col in df_antworten_selected.columns:\n",
    "    df_antworten_selected[col] = pd.to_numeric(df_antworten_selected[col], errors='coerce')\n",
    "\n",
    "# Berechne die Korrelationsmatrix\n",
    "correlation_matrix = df_antworten_selected.corr()\n",
    "\n",
    "# Gib die Korrelationsmatrix aus\n",
    "print(\"\\nKorrelationsmatrix der Antworten:\")\n",
    "print(correlation_matrix)\n",
    "\n",
    "# Visualisiere die Korrelationsmatrix als Heatmap\n",
    "plt.figure(figsize=(10, 8))\n",
    "sns.heatmap(correlation_matrix, annot=True, cmap='coolwarm', fmt=\".2f\")\n",
    "plt.title('Korrelationsmatrix der ausgewählten Genussfragen-Antworten')\n",
    "plt.show()"
   ]
  }
 ],
 "metadata": {
  "language_info": {
   "name": "python"
  }
 },
 "nbformat": 4,
 "nbformat_minor": 5
}
